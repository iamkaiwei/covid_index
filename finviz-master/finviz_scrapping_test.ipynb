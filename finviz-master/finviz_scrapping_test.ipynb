{
 "cells": [
  {
   "cell_type": "code",
   "execution_count": 1,
   "metadata": {},
   "outputs": [],
   "source": [
    "import pandas as pd\n",
    "from finviz.helper_functions.save_data import export_to_db, export_to_csv\n",
    "from finviz.screener import Screener\n",
    "from finviz.main_func import *\n",
    "import nest_asyncio\n",
    "nest_asyncio.apply()"
   ]
  },
  {
   "cell_type": "code",
   "execution_count": 2,
   "metadata": {},
   "outputs": [
    {
     "name": "stdout",
     "output_type": "stream",
     "text": [
      "Filtering stocks..\n",
      "Parsing every stock..\n",
      "Filtering stocks..\n",
      "Parsing every stock..\n"
     ]
    }
   ],
   "source": [
    "# Scrap SP500\n",
    "filters = ['idx_sp500']  # Shows companies in the S&P500\n",
    "print(\"Filtering stocks..\")\n",
    "stock_list = Screener(filters=filters, order='ticker')\n",
    "print(\"Parsing every stock..\")\n",
    "lst=stock_list.get_ticker_details()\n",
    "#stock_list.to_csv('sp500.csv')\n",
    "\n",
    "# Scrap NASDAQ\n",
    "filters = ['exch_nasd']  # Shows companies in the NASDAQ\n",
    "print(\"Filtering stocks..\")\n",
    "stock_list = Screener(filters=filters, order='ticker')\n",
    "print(\"Parsing every stock..\")\n",
    "lst+=stock_list.get_ticker_details()\n",
    "\n",
    "#Save Data\n",
    "pd.DataFrame(lst).drop('No.',axis=1).drop_duplicates().reset_index(drop=True).to_csv('sp500_nasdaq.csv',index=False)\n",
    "\n",
    "\n"
   ]
  },
  {
   "cell_type": "code",
   "execution_count": 2,
   "metadata": {},
   "outputs": [],
   "source": [
    "df=pd.read_csv('sp500_nasdaq.csv')"
   ]
  },
  {
   "cell_type": "code",
   "execution_count": 9,
   "metadata": {
    "scrolled": true
   },
   "outputs": [
    {
     "name": "stdout",
     "output_type": "stream",
     "text": [
      "<class 'pandas.core.frame.DataFrame'>\n",
      "RangeIndex: 3466 entries, 0 to 3465\n",
      "Data columns (total 76 columns):\n",
      "Ticker           3466 non-null object\n",
      "Company          3466 non-null object\n",
      "Sector           3466 non-null object\n",
      "Industry         3466 non-null object\n",
      "Country          3466 non-null object\n",
      "Market Cap       3466 non-null object\n",
      "P/E              3466 non-null object\n",
      "Price            3466 non-null float64\n",
      "Change           3466 non-null object\n",
      "Volume           3466 non-null object\n",
      "Index            3466 non-null object\n",
      "EPS (ttm)        3466 non-null object\n",
      "Insider Own      3466 non-null object\n",
      "Shs Outstand     3466 non-null object\n",
      "Perf Week        3466 non-null object\n",
      "Forward P/E      3466 non-null object\n",
      "EPS next Y       3466 non-null object\n",
      "Insider Trans    3466 non-null object\n",
      "Shs Float        3466 non-null object\n",
      "Perf Month       3466 non-null object\n",
      "Income           3466 non-null object\n",
      "PEG              3466 non-null object\n",
      "EPS next Q       3466 non-null object\n",
      "Inst Own         3466 non-null object\n",
      "Short Float      3466 non-null object\n",
      "Perf Quarter     3466 non-null object\n",
      "Sales            3466 non-null object\n",
      "P/S              3466 non-null object\n",
      "EPS this Y       3466 non-null object\n",
      "Inst Trans       3466 non-null object\n",
      "Short Ratio      3466 non-null object\n",
      "Perf Half Y      3466 non-null object\n",
      "Book/sh          3466 non-null object\n",
      "P/B              3466 non-null object\n",
      "ROA              3466 non-null object\n",
      "Target Price     3466 non-null object\n",
      "Perf Year        3466 non-null object\n",
      "Cash/sh          3466 non-null object\n",
      "P/C              3466 non-null object\n",
      "EPS next 5Y      3466 non-null object\n",
      "ROE              3466 non-null object\n",
      "52W Range        3466 non-null object\n",
      "Perf YTD         3466 non-null object\n",
      "Dividend         3466 non-null object\n",
      "P/FCF            3466 non-null object\n",
      "EPS past 5Y      3466 non-null object\n",
      "ROI              3466 non-null object\n",
      "52W High         3466 non-null object\n",
      "Beta             3466 non-null object\n",
      "Dividend %       3466 non-null object\n",
      "Quick Ratio      3466 non-null object\n",
      "Sales past 5Y    3466 non-null object\n",
      "Gross Margin     3466 non-null object\n",
      "52W Low          3466 non-null object\n",
      "ATR              3466 non-null float64\n",
      "Employees        3466 non-null object\n",
      "Current Ratio    3466 non-null object\n",
      "Sales Q/Q        3466 non-null object\n",
      "Oper. Margin     3466 non-null object\n",
      "RSI (14)         3466 non-null object\n",
      "Volatility       3466 non-null object\n",
      "Optionable       3466 non-null object\n",
      "Debt/Eq          3466 non-null object\n",
      "EPS Q/Q          3466 non-null object\n",
      "Profit Margin    3466 non-null object\n",
      "Rel Volume       3466 non-null float64\n",
      "Prev Close       3466 non-null float64\n",
      "Shortable        3466 non-null object\n",
      "LT Debt/Eq       3466 non-null object\n",
      "Earnings         3466 non-null object\n",
      "Payout           3466 non-null object\n",
      "Avg Volume       3466 non-null object\n",
      "Recom            3466 non-null object\n",
      "SMA20            3466 non-null object\n",
      "SMA50            3466 non-null object\n",
      "SMA200           3466 non-null object\n",
      "dtypes: float64(4), object(72)\n",
      "memory usage: 2.0+ MB\n"
     ]
    }
   ],
   "source": [
    "df.info()"
   ]
  },
  {
   "cell_type": "code",
   "execution_count": 4,
   "metadata": {},
   "outputs": [
    {
     "name": "stdout",
     "output_type": "stream",
     "text": [
      "<class 'pandas.core.frame.DataFrame'>\n",
      "RangeIndex: 3466 entries, 0 to 3465\n",
      "Data columns (total 76 columns):\n",
      "Ticker           3466 non-null object\n",
      "Company          3466 non-null object\n",
      "Sector           3466 non-null object\n",
      "Industry         3466 non-null object\n",
      "Country          3466 non-null object\n",
      "Market Cap       3466 non-null object\n",
      "P/E              3466 non-null object\n",
      "Price            3466 non-null float64\n",
      "Change           3466 non-null object\n",
      "Volume           3466 non-null object\n",
      "Index            3466 non-null object\n",
      "EPS (ttm)        3466 non-null object\n",
      "Insider Own      3466 non-null object\n",
      "Shs Outstand     3466 non-null object\n",
      "Perf Week        3466 non-null object\n",
      "Forward P/E      3466 non-null object\n",
      "EPS next Y       3466 non-null object\n",
      "Insider Trans    3466 non-null object\n",
      "Shs Float        3466 non-null object\n",
      "Perf Month       3466 non-null object\n",
      "Income           3466 non-null object\n",
      "PEG              3466 non-null object\n",
      "EPS next Q       3466 non-null object\n",
      "Inst Own         3466 non-null object\n",
      "Short Float      3466 non-null object\n",
      "Perf Quarter     3466 non-null object\n",
      "Sales            3466 non-null object\n",
      "P/S              3466 non-null object\n",
      "EPS this Y       3466 non-null object\n",
      "Inst Trans       3466 non-null object\n",
      "Short Ratio      3466 non-null object\n",
      "Perf Half Y      3466 non-null object\n",
      "Book/sh          3466 non-null object\n",
      "P/B              3466 non-null object\n",
      "ROA              3466 non-null object\n",
      "Target Price     3466 non-null object\n",
      "Perf Year        3466 non-null object\n",
      "Cash/sh          3466 non-null object\n",
      "P/C              3466 non-null object\n",
      "EPS next 5Y      3466 non-null object\n",
      "ROE              3466 non-null object\n",
      "52W Range        3466 non-null object\n",
      "Perf YTD         3466 non-null object\n",
      "Dividend         3466 non-null object\n",
      "P/FCF            3466 non-null object\n",
      "EPS past 5Y      3466 non-null object\n",
      "ROI              3466 non-null object\n",
      "52W High         3466 non-null object\n",
      "Beta             3466 non-null object\n",
      "Dividend %       3466 non-null object\n",
      "Quick Ratio      3466 non-null object\n",
      "Sales past 5Y    3466 non-null object\n",
      "Gross Margin     3466 non-null object\n",
      "52W Low          3466 non-null object\n",
      "ATR              3466 non-null float64\n",
      "Employees        3466 non-null object\n",
      "Current Ratio    3466 non-null object\n",
      "Sales Q/Q        3466 non-null object\n",
      "Oper. Margin     3466 non-null object\n",
      "RSI (14)         3466 non-null object\n",
      "Volatility       3466 non-null object\n",
      "Optionable       3466 non-null object\n",
      "Debt/Eq          3466 non-null object\n",
      "EPS Q/Q          3466 non-null object\n",
      "Profit Margin    3466 non-null object\n",
      "Rel Volume       3466 non-null float64\n",
      "Prev Close       3466 non-null float64\n",
      "Shortable        3466 non-null object\n",
      "LT Debt/Eq       3466 non-null object\n",
      "Earnings         3466 non-null object\n",
      "Payout           3466 non-null object\n",
      "Avg Volume       3466 non-null object\n",
      "Recom            3466 non-null object\n",
      "SMA20            3466 non-null object\n",
      "SMA50            3466 non-null object\n",
      "SMA200           3466 non-null object\n",
      "dtypes: float64(4), object(72)\n",
      "memory usage: 2.0+ MB\n"
     ]
    }
   ],
   "source": [
    "df.info()"
   ]
  },
  {
   "cell_type": "code",
   "execution_count": 3,
   "metadata": {},
   "outputs": [
    {
     "data": {
      "text/plain": [
       "0           S&P 500\n",
       "1           S&P 500\n",
       "2           S&P 500\n",
       "3       DJIA S&P500\n",
       "4           S&P 500\n",
       "           ...     \n",
       "3461              -\n",
       "3462              -\n",
       "3463              -\n",
       "3464              -\n",
       "3465              -\n",
       "Name: Index, Length: 3466, dtype: object"
      ]
     },
     "execution_count": 3,
     "metadata": {},
     "output_type": "execute_result"
    }
   ],
   "source": [
    "df.Index"
   ]
  }
 ],
 "metadata": {
  "kernelspec": {
   "display_name": "Python 3",
   "language": "python",
   "name": "python3"
  },
  "language_info": {
   "codemirror_mode": {
    "name": "ipython",
    "version": 3
   },
   "file_extension": ".py",
   "mimetype": "text/x-python",
   "name": "python",
   "nbconvert_exporter": "python",
   "pygments_lexer": "ipython3",
   "version": "3.7.4"
  }
 },
 "nbformat": 4,
 "nbformat_minor": 2
}
